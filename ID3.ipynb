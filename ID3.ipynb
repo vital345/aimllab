{
 "cells": [
  {
   "cell_type": "code",
   "execution_count": 2,
   "metadata": {},
   "outputs": [],
   "source": [
    "from collections import Counter\n",
    "import pandas as pd\n",
    "from pprint import pprint"
   ]
  },
  {
   "cell_type": "code",
   "execution_count": 3,
   "metadata": {},
   "outputs": [
    {
     "data": {
      "text/html": [
       "<div>\n",
       "<style scoped>\n",
       "    .dataframe tbody tr th:only-of-type {\n",
       "        vertical-align: middle;\n",
       "    }\n",
       "\n",
       "    .dataframe tbody tr th {\n",
       "        vertical-align: top;\n",
       "    }\n",
       "\n",
       "    .dataframe thead th {\n",
       "        text-align: right;\n",
       "    }\n",
       "</style>\n",
       "<table border=\"1\" class=\"dataframe\">\n",
       "  <thead>\n",
       "    <tr style=\"text-align: right;\">\n",
       "      <th></th>\n",
       "      <th>Outlook</th>\n",
       "      <th>Temperature</th>\n",
       "      <th>Humidity</th>\n",
       "      <th>Wind</th>\n",
       "      <th>PlayTennis</th>\n",
       "    </tr>\n",
       "  </thead>\n",
       "  <tbody>\n",
       "    <tr>\n",
       "      <th>0</th>\n",
       "      <td>Sunny</td>\n",
       "      <td>Hot</td>\n",
       "      <td>High</td>\n",
       "      <td>Weak</td>\n",
       "      <td>No</td>\n",
       "    </tr>\n",
       "    <tr>\n",
       "      <th>1</th>\n",
       "      <td>Sunny</td>\n",
       "      <td>Hot</td>\n",
       "      <td>High</td>\n",
       "      <td>Strong</td>\n",
       "      <td>No</td>\n",
       "    </tr>\n",
       "    <tr>\n",
       "      <th>2</th>\n",
       "      <td>Overcast</td>\n",
       "      <td>Hot</td>\n",
       "      <td>High</td>\n",
       "      <td>Weak</td>\n",
       "      <td>Yes</td>\n",
       "    </tr>\n",
       "    <tr>\n",
       "      <th>3</th>\n",
       "      <td>Rain</td>\n",
       "      <td>Mild</td>\n",
       "      <td>High</td>\n",
       "      <td>Weak</td>\n",
       "      <td>Yes</td>\n",
       "    </tr>\n",
       "    <tr>\n",
       "      <th>4</th>\n",
       "      <td>Rain</td>\n",
       "      <td>Cool</td>\n",
       "      <td>Normal</td>\n",
       "      <td>Weak</td>\n",
       "      <td>Yes</td>\n",
       "    </tr>\n",
       "    <tr>\n",
       "      <th>5</th>\n",
       "      <td>Rain</td>\n",
       "      <td>Cool</td>\n",
       "      <td>Normal</td>\n",
       "      <td>Strong</td>\n",
       "      <td>No</td>\n",
       "    </tr>\n",
       "    <tr>\n",
       "      <th>6</th>\n",
       "      <td>Overcast</td>\n",
       "      <td>Cool</td>\n",
       "      <td>Normal</td>\n",
       "      <td>Strong</td>\n",
       "      <td>Yes</td>\n",
       "    </tr>\n",
       "    <tr>\n",
       "      <th>7</th>\n",
       "      <td>Sunny</td>\n",
       "      <td>Mild</td>\n",
       "      <td>High</td>\n",
       "      <td>Weak</td>\n",
       "      <td>No</td>\n",
       "    </tr>\n",
       "    <tr>\n",
       "      <th>8</th>\n",
       "      <td>Sunny</td>\n",
       "      <td>Cool</td>\n",
       "      <td>Normal</td>\n",
       "      <td>Weak</td>\n",
       "      <td>Yes</td>\n",
       "    </tr>\n",
       "    <tr>\n",
       "      <th>9</th>\n",
       "      <td>Rain</td>\n",
       "      <td>Mild</td>\n",
       "      <td>Normal</td>\n",
       "      <td>Weak</td>\n",
       "      <td>Yes</td>\n",
       "    </tr>\n",
       "    <tr>\n",
       "      <th>10</th>\n",
       "      <td>Sunny</td>\n",
       "      <td>Mild</td>\n",
       "      <td>Normal</td>\n",
       "      <td>Strong</td>\n",
       "      <td>Yes</td>\n",
       "    </tr>\n",
       "    <tr>\n",
       "      <th>11</th>\n",
       "      <td>Overcast</td>\n",
       "      <td>Mild</td>\n",
       "      <td>High</td>\n",
       "      <td>Strong</td>\n",
       "      <td>Yes</td>\n",
       "    </tr>\n",
       "    <tr>\n",
       "      <th>12</th>\n",
       "      <td>Overcast</td>\n",
       "      <td>Hot</td>\n",
       "      <td>Normal</td>\n",
       "      <td>Weak</td>\n",
       "      <td>Yes</td>\n",
       "    </tr>\n",
       "    <tr>\n",
       "      <th>13</th>\n",
       "      <td>Rain</td>\n",
       "      <td>Mild</td>\n",
       "      <td>High</td>\n",
       "      <td>Strong</td>\n",
       "      <td>No</td>\n",
       "    </tr>\n",
       "  </tbody>\n",
       "</table>\n",
       "</div>"
      ],
      "text/plain": [
       "     Outlook Temperature Humidity    Wind PlayTennis\n",
       "0      Sunny         Hot     High    Weak         No\n",
       "1      Sunny         Hot     High  Strong         No\n",
       "2   Overcast         Hot     High    Weak        Yes\n",
       "3       Rain        Mild     High    Weak        Yes\n",
       "4       Rain        Cool   Normal    Weak        Yes\n",
       "5       Rain        Cool   Normal  Strong         No\n",
       "6   Overcast        Cool   Normal  Strong        Yes\n",
       "7      Sunny        Mild     High    Weak         No\n",
       "8      Sunny        Cool   Normal    Weak        Yes\n",
       "9       Rain        Mild   Normal    Weak        Yes\n",
       "10     Sunny        Mild   Normal  Strong        Yes\n",
       "11  Overcast        Mild     High  Strong        Yes\n",
       "12  Overcast         Hot   Normal    Weak        Yes\n",
       "13      Rain        Mild     High  Strong         No"
      ]
     },
     "execution_count": 3,
     "metadata": {},
     "output_type": "execute_result"
    }
   ],
   "source": [
    "df_tennis = pd.read_csv('playtennnis.csv')\n",
    "df_tennis"
   ]
  },
  {
   "cell_type": "code",
   "execution_count": 4,
   "metadata": {},
   "outputs": [],
   "source": [
    "def entropy(xs:list):\n",
    "    import math\n",
    "    return sum([-x * math.log2(x) for x in xs])"
   ]
  },
  {
   "cell_type": "code",
   "execution_count": 5,
   "metadata": {},
   "outputs": [],
   "source": [
    "def entropy_of_list(list_:list):\n",
    "    cnt = Counter(x for x in list_)\n",
    "    n = len(list_)\n",
    "    probability = [x/n for x in cnt.values()]\n",
    "    return entropy(probability)"
   ]
  },
  {
   "cell_type": "code",
   "execution_count": 14,
   "metadata": {},
   "outputs": [],
   "source": [
    "def information_gain(df:pd.DataFrame, split, target, trace=0):\n",
    "    df_split = df.groupby(split)\n",
    "    n = len(df)\n",
    "    df_arg_ent = df_split.agg({target:[entropy_of_list,lambda x:len(x)/n]})[target]\n",
    "    # print(df_arg_ent)\n",
    "    df_arg_ent.columns=['Entropy','PropObervation']\n",
    "    new_entorpy= sum(df_arg_ent['Entropy'] * df_arg_ent['PropObervation'])\n",
    "    old_entropy = entropy_of_list(df[target])\n",
    "    return old_entropy-new_entorpy"
   ]
  },
  {
   "cell_type": "code",
   "execution_count": 15,
   "metadata": {},
   "outputs": [
    {
     "data": {
      "text/plain": [
       "0.9402859586706311"
      ]
     },
     "execution_count": 15,
     "metadata": {},
     "output_type": "execute_result"
    }
   ],
   "source": [
    "total_entropy = entropy_of_list(df_tennis['PlayTennis'])\n",
    "total_entropy"
   ]
  },
  {
   "cell_type": "code",
   "execution_count": 18,
   "metadata": {},
   "outputs": [],
   "source": [
    "def id3(df:pd.DataFrame, target:str, attribute:list[str], defult_class:str=None):\n",
    "    cnt = Counter(x for x in df[target])\n",
    "    if len(cnt)==1:\n",
    "        return next(iter(cnt))\n",
    "    elif df.empty or (not attribute):\n",
    "        return defult_class\n",
    "    else:\n",
    "        defult_class = max(cnt.keys())\n",
    "        # print(type(defult_class), defult_class)\n",
    "        ganiz = [information_gain(df,attr,target) for attr in attribute]\n",
    "        index_of_max = ganiz.index(max(ganiz))\n",
    "        best_attr=attribute[index_of_max]\n",
    "        tree = {best_attr:{}}\n",
    "        reaming = [i for i in attribute if i!=best_attr]\n",
    "        for attr_val,data_subset in df.groupby(best_attr):\n",
    "            substree = id3(data_subset,target,reaming,defult_class)\n",
    "            tree[best_attr][attr_val]=substree\n",
    "        return tree"
   ]
  },
  {
   "cell_type": "code",
   "execution_count": 19,
   "metadata": {},
   "outputs": [
    {
     "name": "stdout",
     "output_type": "stream",
     "text": [
      "<class 'str'> Yes\n",
      "<class 'str'> Yes\n",
      "<class 'str'> Yes\n"
     ]
    }
   ],
   "source": [
    "attribute = list(df_tennis.columns[:])\n",
    "attribute.remove('PlayTennis')\n",
    "tree = id3(df_tennis, 'PlayTennis', attribute)"
   ]
  },
  {
   "cell_type": "code",
   "execution_count": 38,
   "metadata": {},
   "outputs": [
    {
     "name": "stdout",
     "output_type": "stream",
     "text": [
      "{'Outlook': {'Overcast': 'Yes',\n",
      "             'Rain': {'Wind': {'Strong': 'No', 'Weak': 'Yes'}},\n",
      "             'Sunny': {'Humidity': {'High': 'No', 'Normal': 'Yes'}}}}\n"
     ]
    }
   ],
   "source": [
    "pprint(tree)"
   ]
  },
  {
   "cell_type": "code",
   "execution_count": null,
   "metadata": {},
   "outputs": [],
   "source": []
  }
 ],
 "metadata": {
  "interpreter": {
   "hash": "95bfb5e792c94f633e6150aa791213c8a7723b6fd673a476ef228dfeefaa65bd"
  },
  "kernelspec": {
   "display_name": "Python 3.10.2 64-bit ('lab': venv)",
   "language": "python",
   "name": "python3"
  },
  "language_info": {
   "codemirror_mode": {
    "name": "ipython",
    "version": 3
   },
   "file_extension": ".py",
   "mimetype": "text/x-python",
   "name": "python",
   "nbconvert_exporter": "python",
   "pygments_lexer": "ipython3",
   "version": "3.10.2"
  },
  "orig_nbformat": 4
 },
 "nbformat": 4,
 "nbformat_minor": 2
}
