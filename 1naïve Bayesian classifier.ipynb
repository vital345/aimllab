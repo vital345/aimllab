{
 "cells": [
  {
   "cell_type": "code",
   "execution_count": 1,
   "id": "93a3c2e0",
   "metadata": {},
   "outputs": [
    {
     "name": "stdout",
     "output_type": "stream",
     "text": [
      "Requirement already satisfied: pandas in c:\\users\\vital\\onedrive\\desktop\\engineering\\ai ml lab\\lab\\lib\\site-packages (1.4.0)\n",
      "Requirement already satisfied: pytz>=2020.1 in c:\\users\\vital\\onedrive\\desktop\\engineering\\ai ml lab\\lab\\lib\\site-packages (from pandas) (2021.3)\n",
      "Requirement already satisfied: python-dateutil>=2.8.1 in c:\\users\\vital\\onedrive\\desktop\\engineering\\ai ml lab\\lab\\lib\\site-packages (from pandas) (2.8.2)\n",
      "Requirement already satisfied: numpy>=1.21.0 in c:\\users\\vital\\onedrive\\desktop\\engineering\\ai ml lab\\lab\\lib\\site-packages (from pandas) (1.22.1)\n",
      "Requirement already satisfied: six>=1.5 in c:\\users\\vital\\onedrive\\desktop\\engineering\\ai ml lab\\lab\\lib\\site-packages (from python-dateutil>=2.8.1->pandas) (1.16.0)\n",
      "Note: you may need to restart the kernel to use updated packages.\n",
      "Requirement already satisfied: numpy in c:\\users\\vital\\onedrive\\desktop\\engineering\\ai ml lab\\lab\\lib\\site-packages (1.22.1)\n",
      "Note: you may need to restart the kernel to use updated packages.\n"
     ]
    }
   ],
   "source": [
    "%pip install pandas\n",
    "%pip install numpy"
   ]
  },
  {
   "cell_type": "code",
   "execution_count": 6,
   "id": "ed555e7a",
   "metadata": {},
   "outputs": [],
   "source": [
    "import pandas as pd"
   ]
  },
  {
   "cell_type": "code",
   "execution_count": 7,
   "id": "42795094",
   "metadata": {},
   "outputs": [],
   "source": [
    "def probAttr(data:pd.DataFrame, attr:str, val:str):\n",
    "    Total = data.shape[0]\n",
    "    cnt = len(data[data[attr] == val])\n",
    "    # cnt for each yes and no\n",
    "    # counts the occurances\n",
    "    # the function returns 9, 9/14 for 'Yes' \n",
    "    # the function returns 5, 5/14 for 'No'\n",
    "    return cnt, cnt / Total"
   ]
  },
  {
   "cell_type": "code",
   "execution_count": 8,
   "id": "d1b56fad",
   "metadata": {},
   "outputs": [],
   "source": [
    "#data -> whole playtennis\n",
    "#Attr -> {'Outlook':     {'Sunny', 'Rain', 'Overcast'}, \n",
    "#         'Temperature': {'Mild', 'Hot', 'Cool'}, \n",
    "#         'Humidity':    {'Normal', 'High'}, \n",
    "#         'Wind':        {'Strong', 'Weak'}\n",
    "#}\n",
    "#targetVals -> {'No', 'Yes'}\n",
    "#concept -> 'PlayTennis' (target column name)\n",
    "def train(data:pd.DataFrame, Attr:dict, targetVals:set, concept:str):\n",
    "    conceptProbs = {}\n",
    "    countConcept = {}\n",
    "    for cVal in targetVals:\n",
    "        countConcept[cVal], conceptProbs[cVal] = probAttr(data, concept, cVal)\n",
    "    AttrConcept = {}\n",
    "    probability_list = {}\n",
    "    for att in Attr:\n",
    "        probability_list[att] = {}\n",
    "        AttrConcept[att] = {}\n",
    "        for val in Attr[att]:\n",
    "            AttrConcept[att][val] = {}\n",
    "            _, probability_list[att][val] = probAttr(data, att, val)\n",
    "            for cVal in targetVals:\n",
    "                dataTemp = data[data[att] == val]\n",
    "                AttrConcept[att][val][cVal] = len(dataTemp[dataTemp[concept] == cVal]) / countConcept[cVal]\n",
    "    print(f\"P(A) : {conceptProbs}\\n\")\n",
    "    print(f\"P(X/A) : {AttrConcept}\\n\")\n",
    "    print(f\"P(X) : {probability_list}\\n\")\n",
    "    return conceptProbs, AttrConcept, probability_list\n"
   ]
  },
  {
   "cell_type": "code",
   "execution_count": 9,
   "id": "6dbc272f",
   "metadata": {},
   "outputs": [],
   "source": [
    "def test(examples, Attr, concept_list, conceptProbs, AttrConcept,probability_list):\n",
    "    misclassification_count = 0\n",
    "    Total = len(examples)\n",
    "    for ex in examples:\n",
    "        px = {}\n",
    "        for a in Attr:\n",
    "            for x in ex:\n",
    "                for c in concept_list:\n",
    "                    if x in AttrConcept[a]:\n",
    "                        if c not in px:\n",
    "                            px[c] = conceptProbs[c] * AttrConcept[a][x][c] / probability_list[a][x]\n",
    "                        else:\n",
    "                            px[c] = px[c] * AttrConcept[a][x][c] / probability_list[a][x]\n",
    "        print(px)\n",
    "        classification = max(px, key=px.get)\n",
    "        print(f\"Classification : {classification} Expected : {ex[-1]}\")\n",
    "        if (classification != ex[-1]):\n",
    "            misclassification_count += 1\n",
    "            \n",
    "    misclassification_rate = misclassification_count * 100 / Total\n",
    "    accuracy = 100 - misclassification_rate\n",
    "    print(f\"Misclassification Count={misclassification_count}\")\n",
    "    print(f\"Misclassification Rate={misclassification_rate}%\")\n",
    "    print(f\"Accuracy={accuracy}%\")\n"
   ]
  },
  {
   "cell_type": "code",
   "execution_count": 12,
   "id": "4cf62c39",
   "metadata": {},
   "outputs": [
    {
     "name": "stdout",
     "output_type": "stream",
     "text": [
      "target -> PlayTennis\n",
      "Attr -> {'Outlook': {'Sunny', 'Rain', 'Overcast'}, 'Temperature': {'Mild', 'Hot', 'Cool'}, 'Humidity': {'Normal', 'High'}, 'Wind': {'Strong', 'Weak'}}\n",
      "P(X) : {'Outlook': {'Sunny': 0.35714285714285715, 'Rain': 0.35714285714285715, 'Overcast': 0.2857142857142857}, 'Temperature': {'Mild': 0.42857142857142855, 'Hot': 0.2857142857142857, 'Cool': 0.2857142857142857}, 'Humidity': {'Normal': 0.5, 'High': 0.5}, 'Wind': {'Strong': 0.42857142857142855, 'Weak': 0.5714285714285714}}\n",
      "\n",
      "{'Yes': 0.2419753086419753, 'No': 0.9408000000000002}\n",
      "Classification : No Expected : No\n",
      "{'Yes': 0.16131687242798354, 'No': 1.8816000000000002}\n",
      "Classification : No Expected : No\n",
      "{'Yes': 0.6049382716049383, 'No': 0.0}\n",
      "Classification : Yes Expected : Yes\n",
      "{'Yes': 0.4839506172839506, 'No': 0.4181333333333335}\n",
      "Classification : Yes Expected : Yes\n",
      "{'Yes': 1.0888888888888888, 'No': 0.07840000000000004}\n",
      "Classification : Yes Expected : Yes\n",
      "{'Yes': 0.7259259259259259, 'No': 0.15680000000000005}\n",
      "Classification : Yes Expected : No\n",
      "{'Yes': 1.2098765432098766, 'No': 0.0}\n",
      "Classification : Yes Expected : Yes\n",
      "{'Yes': 0.3226337448559671, 'No': 0.6272000000000001}\n",
      "Classification : No Expected : No\n",
      "{'Yes': 0.7259259259259256, 'No': 0.11760000000000002}\n",
      "Classification : Yes Expected : Yes\n",
      "{'Yes': 0.9679012345679012, 'No': 0.10453333333333338}\n",
      "Classification : Yes Expected : Yes\n",
      "{'Yes': 0.43017832647462273, 'No': 0.31360000000000005}\n",
      "Classification : Yes Expected : Yes\n",
      "{'Yes': 0.5377229080932785, 'No': 0.0}\n",
      "Classification : Yes Expected : Yes\n",
      "{'Yes': 1.2098765432098766, 'No': 0.0}\n",
      "Classification : Yes Expected : Yes\n",
      "{'Yes': 0.3226337448559671, 'No': 0.8362666666666669}\n",
      "Classification : No Expected : No\n",
      "Misclassification Count=1\n",
      "Misclassification Rate=7.142857142857143%\n",
      "Accuracy=92.85714285714286%\n"
     ]
    }
   ],
   "source": [
    "df = pd.read_csv('playtennnis.csv')\n",
    "target = str(list(df)[-1])\n",
    "print('target ->', target)\n",
    "target_list = set(df[target]) # Yes and No only. \n",
    "Attr = {}\n",
    "for a in df.columns[:-1]:\n",
    "    Attr[a] = set(df[a])\n",
    "    # print(f\"{a}: {Attr[a]}\")\n",
    "print('Attr ->', Attr)\n",
    "conceptProbs, AttrConcept, probability_list = train(df, Attr, target_list, target)\n",
    "examples = pd.read_csv('playtennnis.csv')\n",
    "test(examples.values, Attr, target_list, conceptProbs, AttrConcept, probability_list)\n",
    "# df"
   ]
  },
  {
   "cell_type": "code",
   "execution_count": null,
   "id": "08b1a8a8",
   "metadata": {},
   "outputs": [],
   "source": []
  },
  {
   "cell_type": "code",
   "execution_count": null,
   "id": "4dacf902",
   "metadata": {},
   "outputs": [],
   "source": []
  }
 ],
 "metadata": {
  "kernelspec": {
   "display_name": "Python 3 (ipykernel)",
   "language": "python",
   "name": "python3"
  },
  "language_info": {
   "codemirror_mode": {
    "name": "ipython",
    "version": 3
   },
   "file_extension": ".py",
   "mimetype": "text/x-python",
   "name": "python",
   "nbconvert_exporter": "python",
   "pygments_lexer": "ipython3",
   "version": "3.10.2"
  }
 },
 "nbformat": 4,
 "nbformat_minor": 5
}
